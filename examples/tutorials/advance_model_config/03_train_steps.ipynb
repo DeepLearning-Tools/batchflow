{
 "cells": [
  {
   "cell_type": "markdown",
   "metadata": {},
   "source": [
    "# Different training procedures"
   ]
  },
  {
   "cell_type": "markdown",
   "metadata": {},
   "source": [
    " ## What's it?"
   ]
  },
  {
   "cell_type": "markdown",
   "metadata": {},
   "source": [
    "Using `train_steps`, we  can configure different training procedures. It allows optimizing weights in selected scope using selected optimizer, loss and learning rate decay."
   ]
  },
  {
   "cell_type": "markdown",
   "metadata": {},
   "source": [
    "`scope` – a subset of weights to optimize during training. It can be either string or sequence of strings.\n",
    "The value `''` is reserved for optimizing all trainable variables. Putting `-` sign before name stands for complement: optimize everything but the passed scope. The scope can be chosen from masks of the path to model weights tensors."
   ]
  },
  {
   "cell_type": "markdown",
   "metadata": {},
   "source": [
    "A scope can be set up as a list of scopes:\n",
    "```python\n",
    "'scope': ['block/group-0/some_layer', 'block/some_group']\n",
    "```"
   ]
  },
  {
   "cell_type": "code",
   "execution_count": 1,
   "metadata": {},
   "outputs": [],
   "source": [
    "import os\n",
    "import sys\n",
    "import warnings\n",
    "\n",
    "import matplotlib.pyplot as plt\n",
    "\n",
    "sys.path.append('../../..')\n",
    "from batchflow import Pipeline, B, C, V, D\n",
    "from batchflow.opensets import MNIST\n",
    "from batchflow.models.tf import EncoderDecoder"
   ]
  },
  {
   "cell_type": "markdown",
   "metadata": {},
   "source": [
    "Specify which GPU(s) to be used. More about it in [CUDA documentation](https://docs.nvidia.com/cuda/cuda-c-programming-guide/index.html#env-vars)."
   ]
  },
  {
   "cell_type": "code",
   "execution_count": 2,
   "metadata": {},
   "outputs": [
    {
     "name": "stdout",
     "output_type": "stream",
     "text": [
      "env: CUDA_DEVICE_ORDER=PCI_BUS_ID\n",
      "env: CUDA_VISIBLE_DEVICES=5\n"
     ]
    }
   ],
   "source": [
    "%env CUDA_DEVICE_ORDER=PCI_BUS_ID\n",
    "%env CUDA_VISIBLE_DEVICES=5"
   ]
  },
  {
   "cell_type": "markdown",
   "metadata": {},
   "source": [
    "## Create a dataset, define a pipeline config, define a default model config\n"
   ]
  },
  {
   "cell_type": "code",
   "execution_count": 3,
   "metadata": {},
   "outputs": [],
   "source": [
    "BATCH_SIZE = 64\n",
    "\n",
    "dataset = MNIST()\n",
    "\n",
    "config = dict(model=EncoderDecoder)\n",
    "\n",
    "model_config = {'inputs/images/shape': B.image_shape,\n",
    "                'inputs/masks/shape': B.image_shape,\n",
    "                'initial_block/inputs': 'images',\n",
    "                'body/encoder/num_stages': 3,\n",
    "                'body/encoder/blocks': {'layout': 'cna cna',\n",
    "                                        'kernel_size': 3,\n",
    "                                        'filters': [16, 32, 128]},\n",
    "                'body/decoder/blocks': {'layout': 'cna cna',\n",
    "                                        'kernel_size': 3,\n",
    "                                        'filters': [64, 32, 16]},\n",
    "                'head': dict(layout='cna', kernel_size=3, filters=16),\n",
    "                'loss': 'mse'}"
   ]
  },
  {
   "cell_type": "markdown",
   "metadata": {},
   "source": [
    "In the Encoder-Decoder architecture, a network is partitioned into two parts: the encoder, and the decoder. The encoder’s role is encoding the inputs into a state, which is called embedding. Then the state is passed into the decoder to generate outputs.\n",
    "More about implementation of [EncoderDecoder in batchflow](https://analysiscenter.github.io/batchflow/api/batchflow.models.tf.encoder_decoder.html)."
   ]
  },
  {
   "cell_type": "markdown",
   "metadata": {},
   "source": [
    "# Add different training procedures "
   ]
  },
  {
   "cell_type": "markdown",
   "metadata": {},
   "source": [
    "`'train_steps'` is a mapping from names (more on that later) to parameters for configuring training procedure. Choose the optimizer, the scope of weights of your neural network, and the learning rate decay config \n",
    "([avalible losses and decays](https://analysiscenter.github.io/batchflow/api/batchflow.models.tf.base.html)). For example:\n",
    "\n",
    "\n",
    "```python\n",
    "'train_steps': {'name_of_train_step': {'optimizer': 'Adam', \n",
    "                                       'scope': 'block/group/layer', \n",
    "                                       'decay': lr_decay_config, \n",
    "                                       'loss': 'mse'}}\n",
    "```"
   ]
  },
  {
   "cell_type": "code",
   "execution_count": 4,
   "metadata": {},
   "outputs": [],
   "source": [
    "model_config.update(\n",
    "    {'train_steps':\n",
    "     {\n",
    "        'encoder': {'optimizer': 'Adam', 'scope': ['body/encoder', 'initial_block'], 'loss': 'mse'},\n",
    "        'decoder': {'optimizer': 'Adam', 'scope': ['body/decoder', 'head'], 'loss': 'mse'}\n",
    "     }\n",
    "    })"
   ]
  },
  {
   "cell_type": "markdown",
   "metadata": {},
   "source": [
    "Optimizer and decay together may be reused by another **train step**. Apply the key `'use'`  in a **train_step** with the name of the **train_step** whose optimizer and decay you want to use.\n",
    "\n",
    "For example:\n",
    "```python\n",
    "'all_mse_decay': {'optimizer': 'Adam', 'loss': 'mse', 'decay': lr_decay_config}\n",
    "'head': {'use': 'all_mse_decay', 'scope': 'head', 'loss': 'ce'}\n",
    " ```"
   ]
  },
  {
   "cell_type": "markdown",
   "metadata": {},
   "source": [
    "A scope contains all trainable variables if it isn't set (as in the case `'all_mse_decay'` train step)."
   ]
  },
  {
   "cell_type": "markdown",
   "metadata": {},
   "source": [
    "# Example of usage"
   ]
  },
  {
   "cell_type": "markdown",
   "metadata": {},
   "source": [
    "## Train the model"
   ]
  },
  {
   "cell_type": "markdown",
   "metadata": {},
   "source": [
    "Parameter `train_mode` used in `train_model` pipeline action to select *train step*. "
   ]
  },
  {
   "cell_type": "markdown",
   "metadata": {},
   "source": [
    "For example use:\n",
    "```python \n",
    "train_mode='name_of_train_step'\n",
    "```\n",
    "to select `name_of_train_step`.\n",
    "\n",
    "To fetch loss according to selected *train_step* use:\n",
    "```python \n",
    "fetches='loss_name_of_train_step'\n",
    "``` "
   ]
  },
  {
   "cell_type": "markdown",
   "metadata": {},
   "source": [
    "Now use `train_mode='encoder'`  to select train step `'encoder'`. And `fetches='loss_encoder'` to fetch corresponding loss."
   ]
  },
  {
   "cell_type": "markdown",
   "metadata": {},
   "source": [
    "Let's, define the function that displays mean values of the encoder and decoder tensor at each pipeline iteration to look at a change in values when changing **train_step**. And also select the tensors we want to monitor."
   ]
  },
  {
   "cell_type": "code",
   "execution_count": 5,
   "metadata": {},
   "outputs": [],
   "source": [
    "tensors_to_fetch = ['body/encoder/encoder-0/block/layer-3/conv2d_1/Conv2D/ReadVariableOp',\n",
    "                    'body/decoder/decoder-2/block/layer-3/conv2d_12/Conv2D/ReadVariableOp']\n",
    "\n",
    "def plot_tensor_mean(encoder_tensor, decoder_tensor):\n",
    "    plt.plot([tensor.mean() for tensor in encoder_tensor], label='Mean of encoder tensor')\n",
    "    plt.plot([tensor.mean() for tensor in decoder_tensor], label='Mean of decoder tensor')\n",
    "    plt.legend()\n",
    "    plt.show()"
   ]
  },
  {
   "cell_type": "code",
   "execution_count": 6,
   "metadata": {},
   "outputs": [
    {
     "data": {
      "text/plain": [
       "<batchflow.once_pipeline.OncePipeline at 0x7f98f2e46cf8>"
      ]
     },
     "execution_count": 6,
     "metadata": {},
     "output_type": "execute_result"
    }
   ],
   "source": [
    "train_encoder = (Pipeline(config=config)\n",
    "                 .init_variable('encoder_tensor', [])\n",
    "                 .init_variable('decoder_tensor', [])\n",
    "                 .init_model('dynamic', C('model'),'conv_nn',\n",
    "                             config=model_config)\n",
    "                 .to_array()\n",
    "                 .train_model('conv_nn', fetches=tensors_to_fetch, \n",
    "                              train_mode='encoder',\n",
    "                              images=B.images, masks=B.images,\n",
    "                              save_to=[V('encoder_tensor', mode='a'), V('decoder_tensor', mode='a')],\n",
    "                              use_lock=True)\n",
    "                ) << dataset.train \n",
    "\n",
    "train_encoder.after.plot_tensor_mean(V('encoder_tensor'), V('decoder_tensor'))"
   ]
  },
  {
   "cell_type": "code",
   "execution_count": 7,
   "metadata": {},
   "outputs": [
    {
     "name": "stderr",
     "output_type": "stream",
     "text": [
      "100%|██████████| 100/100 [00:18<00:00, 16.18it/s]\n"
     ]
    },
    {
     "data": {
      "image/png": "[encoded data removed]",
      "text/plain": [
       "<Figure size 432x288 with 1 Axes>"
      ]
     },
     "metadata": {
      "needs_background": "light"
     },
     "output_type": "display_data"
    },
    {
     "data": {
      "text/plain": [
       "<batchflow.pipeline.Pipeline at 0x7f98f2e46be0>"
      ]
     },
     "execution_count": 7,
     "metadata": {},
     "output_type": "execute_result"
    }
   ],
   "source": [
    "train_encoder.run(BATCH_SIZE, shuffle=True, n_iters = 100, bar=True, drop_last=True)"
   ]
  },
  {
   "cell_type": "markdown",
   "metadata": {},
   "source": [
    "On the plot, we can see how encoder tensor mean and decoder tensor mean have been changing during the whole time of work of `train_encoder` pipeline. We see that only encoder tensor mean changes because in  `'encoder'` train step defined that the network can change weights only from encoder part.\n",
    "\n",
    "Now we have the neural network with trained weights from scope of `'encoder'` train step."
   ]
  },
  {
   "cell_type": "markdown",
   "metadata": {},
   "source": [
    "Next, we train weights from the scope `'decoder'` train step."
   ]
  },
  {
   "cell_type": "code",
   "execution_count": 8,
   "metadata": {},
   "outputs": [
    {
     "data": {
      "text/plain": [
       "<batchflow.once_pipeline.OncePipeline at 0x7f9768273f98>"
      ]
     },
     "execution_count": 8,
     "metadata": {},
     "output_type": "execute_result"
    }
   ],
   "source": [
    "train_decoder = (Pipeline(config=config)\n",
    "                  .init_variable('encoder_tensor', [])\n",
    "                  .init_variable('decoder_tensor', [])\n",
    "                  .import_model('conv_nn', train_encoder)\n",
    "                  .to_array()\n",
    "                  .train_model('conv_nn', fetches=tensors_to_fetch,\n",
    "                               train_mode='decoder',\n",
    "                               images=B.images, masks=B.images,\n",
    "                               save_to=[V('encoder_tensor', mode='a'), V('decoder_tensor', mode='a')],\n",
    "                               use_lock=True)) << dataset.train\n",
    "\n",
    "train_decoder.after.plot_tensor_mean(V('encoder_tensor'), V('decoder_tensor'))"
   ]
  },
  {
   "cell_type": "code",
   "execution_count": 9,
   "metadata": {},
   "outputs": [
    {
     "name": "stderr",
     "output_type": "stream",
     "text": [
      "100%|██████████| 100/100 [00:06<00:00, 16.80it/s]\n"
     ]
    },
    {
     "data": {
      "image/png": "[encoded data removed]",
      "text/plain": [
       "<Figure size 432x288 with 1 Axes>"
      ]
     },
     "metadata": {
      "needs_background": "light"
     },
     "output_type": "display_data"
    },
    {
     "data": {
      "text/plain": [
       "<batchflow.pipeline.Pipeline at 0x7f97682732b0>"
      ]
     },
     "execution_count": 9,
     "metadata": {},
     "output_type": "execute_result"
    }
   ],
   "source": [
    "train_decoder.run(BATCH_SIZE, shuffle=True, n_iters=100, bar=True, drop_last=True)"
   ]
  },
  {
   "cell_type": "markdown",
   "metadata": {},
   "source": [
    "On the second plot, we can see that the decoder tensor mean changes, and the encoder tensor mean does not change (`'decoder'` train step). It means that the `train_decoder` pipeline trains only the decoder part of the network."
   ]
  },
  {
   "cell_type": "markdown",
   "metadata": {},
   "source": [
    "Now we can get models with different training procedures, and thus we can get better results."
   ]
  }
 ],
 "metadata": {
  "kernelspec": {
   "display_name": "Python 3",
   "language": "python",
   "name": "python3"
  },
  "language_info": {
   "codemirror_mode": {
    "name": "ipython",
    "version": 3
   },
   "file_extension": ".py",
   "mimetype": "text/x-python",
   "name": "python",
   "nbconvert_exporter": "python",
   "pygments_lexer": "ipython3",
   "version": "3.7.4"
  }
 },
 "nbformat": 4,
 "nbformat_minor": 2
}
